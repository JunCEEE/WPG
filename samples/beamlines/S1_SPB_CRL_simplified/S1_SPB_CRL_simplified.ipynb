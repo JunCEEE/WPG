{
 "cells": [
  {
   "cell_type": "markdown",
   "metadata": {},
   "source": [
    "# S1 SPB CRL simplified beamline"
   ]
  },
  {
   "cell_type": "code",
   "execution_count": null,
   "metadata": {
    "collapsed": true
   },
   "outputs": [],
   "source": [
    "%matplotlib inline"
   ]
  },
  {
   "cell_type": "code",
   "execution_count": null,
   "metadata": {
    "collapsed": false
   },
   "outputs": [],
   "source": [
    "from __future__ import absolute_import\n",
    "from __future__ import division\n",
    "from __future__ import print_function\n",
    "from __future__ import unicode_literals"
   ]
  },
  {
   "cell_type": "code",
   "execution_count": null,
   "metadata": {
    "collapsed": false
   },
   "outputs": [],
   "source": [
    "import os\n",
    "import sys\n",
    "\n",
    "\n",
    "# wpg_path = '/afs/desy.de/group/exfel/software/wpg/latest/' # DESY installation\n",
    "wpg_path = os.path.join('..','..','..')\n",
    "sys.path.insert(0, wpg_path)\n",
    "\n",
    "import numpy as np\n",
    "import pylab as plt\n",
    "\n",
    "\n",
    "from wpg import Wavefront, Beamline\n",
    "from wpg.optical_elements import Aperture, Drift, CRL, Empty, Use_PP\n",
    "from wpg.generators import build_gauss_wavefront\n",
    "\n",
    "from wpg.srwlib import srwl\n",
    "\n",
    "from wpg.wpg_uti_exfl import calculate_theta_fwhm_cdr_s1\n",
    "from wpg.wpg_uti_wf import calculate_fwhm, averaged_intensity, look_at_q_space, plot_t_wf\n",
    "from wpg.wpg_uti_oe import show_transmission"
   ]
  },
  {
   "cell_type": "code",
   "execution_count": null,
   "metadata": {
    "collapsed": false
   },
   "outputs": [],
   "source": [
    "from IPython.display import Image\n",
    "Image(filename='CRL_1.png')"
   ]
  },
  {
   "cell_type": "code",
   "execution_count": null,
   "metadata": {
    "collapsed": false
   },
   "outputs": [],
   "source": [
    "%%file bl_S1_SPB_CRL_simplified.py\n",
    "\n",
    "\n",
    "def get_beamline():\n",
    "    from wpg import Beamline\n",
    "    from wpg.optical_elements import Aperture, Drift, CRL, Empty, Use_PP\n",
    "    #S1 beamline layout\n",
    "    ### Geometry ###\n",
    "    src_to_hom1 = 257.8 # Distance source to HOM 1 [m]\n",
    "    src_to_hom2 = 267.8 # Distance source to HOM 2 [m]\n",
    "    src_to_crl = 887.8  # Distance source to CRL [m]\n",
    "#     src_to_exp = 920.42 # Distance source to experiment [m]\n",
    "    z0 = src_to_hom1\n",
    "    \n",
    "    # Drift to focus aperture\n",
    "    #crl_to_exp_drift = Drift( src_to_exp - src_to_crl )\n",
    "    z = 34.0\n",
    "    #define distances, angles, etc\n",
    "    #...\n",
    "    #Incidence angle at HOM\n",
    "    theta_om = 3.6e-3       # [rad]\n",
    "\n",
    "    om_mirror_length = 0.8 # [m]\n",
    "    om_clear_ap = om_mirror_length*theta_om\n",
    "\n",
    "\n",
    "    #define the beamline:\n",
    "    bl0 = Beamline()\n",
    "    zoom=1\n",
    "\n",
    "    # Define HOM1.\n",
    "    aperture_x_to_y_ratio = 1\n",
    "    hom1 = Aperture(shape='r',ap_or_ob='a',Dx=om_clear_ap,Dy=om_clear_ap/aperture_x_to_y_ratio)\n",
    "    bl0.append( hom1, Use_PP(semi_analytical_treatment=0, zoom=zoom, sampling=zoom) )\n",
    "\n",
    "    # Free space propagation from hom1 to hom2\n",
    "    hom1_to_hom2_drift = Drift(src_to_hom2 - src_to_hom1); z0 = z0+(src_to_hom2 - src_to_hom1)\n",
    "    bl0.append( hom1_to_hom2_drift, Use_PP(semi_analytical_treatment=0))\n",
    "\n",
    "\n",
    "    # Define HOM2.\n",
    "    zoom = 1.0\n",
    "    hom2 = Aperture('r','a', om_clear_ap, om_clear_ap/aperture_x_to_y_ratio)\n",
    "    bl0.append( hom2,  Use_PP(semi_analytical_treatment=0, zoom=zoom, sampling=zoom/0.75))\n",
    "\n",
    "    #drift to CRL aperture\n",
    "    hom2_to_crl_drift = Drift( src_to_crl - src_to_hom2 );z0 = z0+( src_to_crl - src_to_hom2 )\n",
    "    #bl0.append( hom2_to_crl_drift, Use_PP(semi_analytical_treatment=0))\n",
    "    bl0.append( hom2_to_crl_drift, Use_PP(semi_analytical_treatment=1))\n",
    "\n",
    "    \n",
    "    # Define CRL\n",
    "    crl_focussing_plane = 3 # Both horizontal and vertical.\n",
    "    crl_delta = 4.7177e-06 # Refractive index decrement (n = 1- delta - i*beta)\n",
    "    crl_attenuation_length  = 6.3e-3    # Attenuation length [m], Henke data.\n",
    "    crl_shape = 1         # Parabolic lenses\n",
    "    crl_aperture = 5.0e-3 # [m]\n",
    "    crl_curvature_radius = 5.8e-3 # [m]\n",
    "    crl_number_of_lenses = 19\n",
    "    crl_wall_thickness = 8.0e-5 # Thickness\n",
    "    crl_center_horizontal_coordinate = 0.0\n",
    "    crl_center_vertical_coordinate = 0.0\n",
    "    crl_initial_photon_energy = 8.48e3 # [eV] ### OK ???\n",
    "    crl_final_photon_energy = 8.52e3 # [eV]   ### OK ???\n",
    "\n",
    "    crl = CRL( _foc_plane=crl_focussing_plane,\n",
    "              _delta=crl_delta,\n",
    "              _atten_len=crl_attenuation_length,\n",
    "              _shape=crl_shape,\n",
    "              _apert_h=crl_aperture,\n",
    "              _apert_v=crl_aperture,\n",
    "              _r_min=crl_curvature_radius,\n",
    "              _n=crl_number_of_lenses,\n",
    "              _wall_thick=crl_wall_thickness,\n",
    "              _xc=crl_center_horizontal_coordinate,\n",
    "              _yc=crl_center_vertical_coordinate,\n",
    "              _void_cen_rad=None,\n",
    "              _e_start=crl_initial_photon_energy,\n",
    "              _e_fin=crl_final_photon_energy,\n",
    "             )\n",
    "    zoom=0.6\n",
    "\n",
    "    bl0.append( crl, Use_PP(semi_analytical_treatment=1, zoom=zoom, sampling=zoom/0.1) )\n",
    "\n",
    "\n",
    "    crl_to_exp_drift = Drift( z ); z0 = z0+z\n",
    "    bl0.append( crl_to_exp_drift, Use_PP(semi_analytical_treatment=1, zoom=1, sampling=1))\n",
    "#     bl0.append(Empty(),Use_PP(zoom=0.25, sampling=0.25))\n",
    "   \n",
    "    return bl0\n"
   ]
  },
  {
   "cell_type": "markdown",
   "metadata": {},
   "source": [
    "### initial Gaussian wavefront\n",
    "With the calculated beam parameters the initial wavefront is build with 400x400 data points and at distance of the first flat offset mirror at 257.8 m. For further propagation the built wavefront should be stored. \n",
    "\n",
    "After plotting the wavefront the FWHM could be printed out and compared with Gaussian beam divergence value.\n",
    "#### Gaussian beam radius and size at distance $z$ from the waist:  $\\omega(z) = \\omega_0*\\sqrt{1+\\left(\\frac{z}{z_R}\\right)^2}$, where $\\frac{1}{z_R} = \\frac{\\lambda}{\\pi\\omega_0^2}$\n",
    "\n",
    "#### Expected FWHM at first screen or focusing mirror: $\\theta_{FWHM}*z$"
   ]
  },
  {
   "cell_type": "code",
   "execution_count": null,
   "metadata": {
    "collapsed": false
   },
   "outputs": [],
   "source": [
    "src_to_hom1 = 257.8 # Distance source to HOM 1 [m]\n",
    "\n",
    "# Central photon energy.\n",
    "ekev = 8.5 # Energy [keV]\n",
    "\n",
    "# Pulse parameters.\n",
    "qnC = 0.5               # e-bunch charge, [nC]\n",
    "pulse_duration = 9.e-15 # [s] <-is not used really, only ~coh time pulse duration has physical meaning \n",
    "pulseEnergy = 1.5e-3    # total pulse energy, J\n",
    "coh_time = 0.8e-15     # [s]<-should be SASE coherence time, then spectrum will be the same as for SASE \n",
    "                       # check coherence time for 8 keV 0.5 nC SASE1\n",
    "\n",
    "# Angular distribution\n",
    "theta_fwhm = calculate_theta_fwhm_cdr_s1(ekev,qnC) # From tutorial\n",
    "#theta_fwhm = 2.124e-6 # Beam divergence        # From Patrick's raytrace.\n",
    "\n",
    "# Gaussian beam parameters\n",
    "wlambda = 12.4*1e-10/ekev # wavelength \n",
    "w0 = wlambda/(np.pi*theta_fwhm) # beam waist; \n",
    "zR = (np.pi*w0**2)/wlambda # Rayleigh range\n",
    "fwhm_at_zR = theta_fwhm*zR # FWHM at Rayleigh range\n",
    "sigmaAmp = w0/(2*np.sqrt(np.log(2))) # sigma of amplitude\n",
    "\n",
    "print('expected FWHM at distance {:.1f} m is {:.2f} mm'.format(src_to_hom1,theta_fwhm*src_to_hom1*1e3))\n",
    "\n",
    "# expected beam radius at M1 position to get the range of the wavefront \n",
    "sig_num = 5.5\n",
    "range_xy = w0 * np.sqrt(1+(src_to_hom1/zR)**2) *sig_num;#print('range_xy at HOM1: {:.1f} mm'.format(range_xy*1e3))\n",
    "fname = 'at_{:.0f}_m'.format(src_to_hom1)"
   ]
  },
  {
   "cell_type": "code",
   "execution_count": null,
   "metadata": {
    "collapsed": false
   },
   "outputs": [],
   "source": [
    "bSaved=False\n",
    "num_points = 400 #number of points\n",
    "dx = 10.e-6; range_xy = dx*(num_points-1);#print('range_xy :', range_xy)\n",
    "nslices = 20; \n",
    "\n",
    "srwl_wf = build_gauss_wavefront(num_points, num_points, nslices, ekev, -range_xy/2, range_xy/2,\n",
    "                                -range_xy/2, range_xy/2 ,coh_time/np.sqrt(2), \n",
    "                                sigmaAmp, sigmaAmp, src_to_hom1,\n",
    "                                pulseEn=pulseEnergy, pulseRange=8.)\n",
    "wf = Wavefront(srwl_wf)\n",
    "z0 = src_to_hom1\n",
    "#defining name HDF5 file for storing wavefront\n",
    "strOutInDataFolder = 'data_common'\n",
    "#store wavefront to HDF5 file \n",
    "if bSaved:     \n",
    "    wf.store_hdf5(fname+'.h5'); print('saving WF to %s' %fname+'.h5')\n",
    "\n",
    "xx=calculate_fwhm(wf);\n",
    "print('FWHM at distance {:.1f} m: {:.2f} x {:.2f} mm2'.format(z0,xx[u'fwhm_x']*1e3,xx[u'fwhm_y']*1e3));"
   ]
  },
  {
   "cell_type": "code",
   "execution_count": null,
   "metadata": {
    "collapsed": false
   },
   "outputs": [],
   "source": [
    "#input gaussian beam\n",
    "print( 'dy {:.1f} um'.format((wf.params.Mesh.yMax-wf.params.Mesh.yMin)*1e6/(wf.params.Mesh.ny-1.)))\n",
    "print( 'dx {:.1f} um'.format((wf.params.Mesh.xMax-wf.params.Mesh.xMin)*1e6/(wf.params.Mesh.nx-1.)))\n",
    "plot_t_wf(wf)\n",
    "look_at_q_space(wf)"
   ]
  },
  {
   "cell_type": "code",
   "execution_count": null,
   "metadata": {
    "collapsed": false
   },
   "outputs": [],
   "source": [
    "#loading beamline from file\n",
    "import imp\n",
    "custom_beamline = imp.load_source('custom_beamline', 'bl_S1_SPB_CRL_simplified.py')\n",
    "get_beamline = custom_beamline.get_beamline\n",
    "bl = get_beamline()\n",
    "print(bl)"
   ]
  },
  {
   "cell_type": "code",
   "execution_count": null,
   "metadata": {
    "collapsed": false
   },
   "outputs": [],
   "source": [
    "#propagated gaussian beam\n",
    "srwl.SetRepresElecField(wf._srwl_wf, 'f') # <---- switch to frequency domain\n",
    "bl.propagate(wf)\n",
    "srwl.SetRepresElecField(wf._srwl_wf, 't')\n",
    "print('FWHM after CRLs:');print(calculate_fwhm(wf))\n",
    "print('FWHM at distance {:.1f} m:'.format(wf.params.Mesh.zCoord));print(calculate_fwhm(wf))\n",
    "plot_t_wf(wf)\n",
    "look_at_q_space(wf)"
   ]
  },
  {
   "cell_type": "code",
   "execution_count": null,
   "metadata": {
    "collapsed": true
   },
   "outputs": [],
   "source": []
  }
 ],
 "metadata": {
  "kernelspec": {
   "display_name": "Python 3",
   "language": "python",
   "name": "python3"
  },
  "language_info": {
   "codemirror_mode": {
    "name": "ipython",
    "version": 3
   },
   "file_extension": ".py",
   "mimetype": "text/x-python",
   "name": "python",
   "nbconvert_exporter": "python",
   "pygments_lexer": "ipython3",
   "version": "3.5.1"
  }
 },
 "nbformat": 4,
 "nbformat_minor": 0
}
