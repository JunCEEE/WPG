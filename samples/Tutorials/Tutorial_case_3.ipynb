{
 "cells": [
  {
   "cell_type": "markdown",
   "metadata": {},
   "source": [
    "# Wavefront propagation simulation tutorial - Case 3"
   ]
  },
  {
   "cell_type": "markdown",
   "metadata": {},
   "source": [
    "L.Samoylova <liubov.samoylova@xfel.eu>, A.Buzmakov <buzmakov@gmail.com>\n",
    "\n",
    "Tutorial course on Wavefront Propagation Simulations, 28/11/2013, European XFEL, Hamburg.\n",
    "\n",
    "Wave optics software is based on SRW core library <https://github.com/ochubar/SRW>, available through WPG interactive framework <https://github.com/samoylv/WPG>"
   ]
  },
  {
   "cell_type": "markdown",
   "metadata": {
    "slideshow": {
     "slide_type": "-"
    }
   },
   "source": [
    "## Propagation Gaussian through HOM and KB optics: extended analysis"
   ]
  },
  {
   "cell_type": "markdown",
   "metadata": {},
   "source": [
    "### Import modules"
   ]
  },
  {
   "cell_type": "code",
   "execution_count": null,
   "metadata": {
    "collapsed": false
   },
   "outputs": [],
   "source": [
    "%matplotlib inline"
   ]
  },
  {
   "cell_type": "code",
   "execution_count": null,
   "metadata": {
    "collapsed": false
   },
   "outputs": [],
   "source": [
    "from __future__ import absolute_import\n",
    "from __future__ import division\n",
    "from __future__ import print_function\n",
    "from __future__ import unicode_literals\n",
    "\n",
    "#Importing necessary modules:\n",
    "\n",
    "import os\n",
    "import sys\n",
    "sys.path.insert(0,os.path.join('..','..'))\n",
    "\n",
    "import time\n",
    "import copy\n",
    "import numpy as np\n",
    "import pylab as plt\n",
    "\n",
    "\n",
    "#import SRW core functions\n",
    "from wpg.srwlib import srwl,SRWLOptD,SRWLOptA,SRWLOptC,SRWLOptT,SRWLOptL,SRWLOptMirEl\n",
    "\n",
    "#import SRW helpers functions\n",
    "from wpg.useful_code.srwutils import AuxTransmAddSurfHeightProfileScaled\n",
    "\n",
    "#import some helpers functions\n",
    "from wpg.useful_code.wfrutils import calculate_fwhm_x, plot_wfront, calculate_fwhm_y, print_beamline, get_mesh, plot_1d, plot_2d\n",
    "from wpg.useful_code.wfrutils import  propagate_wavefront\n",
    "#Import base wavefront class\n",
    "from wpg import Wavefront\n",
    "\n",
    "#Gaussian beam generator\n",
    "from wpg.generators import build_gauss_wavefront_xy\n",
    "\n",
    "from wpg import Beamline\n",
    "from wpg.optical_elements import Empty, Use_PP\n",
    "\n",
    "plt.ion()"
   ]
  },
  {
   "cell_type": "markdown",
   "metadata": {},
   "source": [
    "### Define auxiliary functions"
   ]
  },
  {
   "cell_type": "code",
   "execution_count": null,
   "metadata": {
    "collapsed": false
   },
   "outputs": [],
   "source": [
    "def calculate_source_fwhm(ekev, theta_fwhm):\n",
    "    \"\"\"\n",
    "    Calculate source size from photon energy and FWHM angular divergence\n",
    "    \n",
    "    :param evev: Energy in keV\n",
    "    :param theta_fwhm: theta_fwhm [units?] \n",
    "    \"\"\"\n",
    "    wl = 12.398e-10/ekev\n",
    "    k = 2 * np.sqrt(2*np.log(2))\n",
    "    theta_sigma = theta_fwhm /k\n",
    "    sigma0 = wl /(2*np.pi*theta_sigma)\n",
    "    return sigma0*k\n",
    "\n",
    "def calculate_theta_fwhm_cdr(ekev,qnC):\n",
    "    \"\"\"\n",
    "    Calculate angular divergence using formula from XFEL CDR2011\n",
    "    \n",
    "    :param ekev: Energy in keV\n",
    "    :param qnC: e-bunch charge, [nC]\n",
    "    :return: theta_fwhm [units?]\n",
    "    \"\"\"\n",
    "    theta_fwhm = (17.2 - 6.4 * np.sqrt(qnC))*1e-6/ekev**0.85\n",
    "    return theta_fwhm\n",
    "\n",
    "def defineOPD(opTrErMirr, mdatafile, ncol, delim, Orient, theta, scale):\n",
    "    \"\"\"\n",
    "    Define optical path difference (OPD) from mirror profile, i.e. ill the struct opTrErMirr\n",
    "    \n",
    "    :params mdatafile: an ascii file with mirror profile data\n",
    "    :params ncol: number of columns in the file\n",
    "    :params delim: delimiter between numbers in an row, can be space (' '), tab '\\t', etc\n",
    "    :params orient: mirror orientation, 'x' (horizontal) or 'y' (vertical)\n",
    "    :params theta: incidence angle\n",
    "    :params scale: scaling factor for the mirror profile    \n",
    "    \"\"\"\n",
    "    heightProfData = np.loadtxt(mdatafile).T\n",
    "    AuxTransmAddSurfHeightProfileScaled(opTrErMirr, heightProfData, Orient, theta, scale)\n",
    "    plt.figure()\n",
    "    plot_1d(heightProfData,'profile from ' + mdatafile,'x (m)', 'h (m)')\n"
   ]
  },
  {
   "cell_type": "markdown",
   "metadata": {},
   "source": [
    "### Defining initial wavefront and writing electric field data to h5-file"
   ]
  },
  {
   "cell_type": "code",
   "execution_count": null,
   "metadata": {
    "collapsed": false
   },
   "outputs": [],
   "source": [
    "# #**********************Input Wavefront Structure and Parameters\n",
    "print('*****defining initial wavefront and writing electric field data to h5-file...')\n",
    "strInputDataFolder = 'data_common'  # input data sub-folder name\n",
    "strOutputDataFolder = 'Tutorial_case_3'  # output data sub-folder name\n",
    "\n",
    "#init Gauusian beam parameters\n",
    "d2m1_sase1 = 246.5\n",
    "d2m1_sase2 = 290.0\n",
    "d2m1_sase3 = 281.0\n",
    "\n",
    "d2hkb_sase1 = 929.6       # distance to nmKB's HFM\n",
    "dHKB_foc_sase1 = 3.0      # nominal focal length for HFM KB\n",
    "dVKB_foc_sase1 = 1.9      # nominal focal length for VFM KB\n",
    "d2hkb_sase3 = 442.3\n",
    "dHKB_foc_sase3 = 2.715    # nominal focal length for HFM KB\n",
    "dVKB_foc_sase3 = 1.715    # nominal focal length for VFM KB\n",
    "\n",
    "\n",
    "qnC = 0.1                    # e-bunch charge, [nC]\n",
    "ekev_sase3 = 0.8\n",
    "thetaOM_sase3 = 9.e-3\n",
    "thetaKB_sase3 = 9.e-3\n",
    "ekev_sase1 = 5.0\n",
    "thetaOM_sase1 = 3.5e-3       # \n",
    "thetaKB_sase1 = 3.5e-3\n",
    "\n",
    "ekev = ekev_sase1\n",
    "thetaOM = thetaOM_sase1\n",
    "d2m1 = d2m1_sase1\n",
    "d2hkb = d2hkb_sase1\n",
    "thetaKB = thetaKB_sase1\n",
    "dhkb_foc = dHKB_foc_sase1     # nominal focal length for HFM KB\n",
    "dvkb_foc = dVKB_foc_sase1      # nominal focal length for VFM KB\n",
    "dhkb_vkb = dhkb_foc - dvkb_foc          # distance between centers of HFM and VFM\n",
    "\n",
    "z1 = d2m1\n",
    "theta_fwhm = calculate_theta_fwhm_cdr(ekev,qnC)\n",
    "k = 2*np.sqrt(2*np.log(2))\n",
    "sigX = 12.4e-10*k/(ekev*4*np.pi*theta_fwhm) \n",
    "print('waist_fwhm [um], theta_fwhms [urad]:', sigX*k*1e6, theta_fwhm*1e6)\n",
    "#define limits\n",
    "range_xy = theta_fwhm/k*z1*7. # sigma*7 beam size\n",
    "npoints=400\n",
    "\n",
    "#define unique filename for storing results\n",
    "ip = np.floor(ekev)\n",
    "frac = np.floor((ekev - ip)*1e3)\n",
    "fname0 = 'g' + str(int(ip))+'_'+str(int(frac))+'kev'\n",
    "print('save hdf5: '+fname0+'.h5')\n",
    "ifname = os.path.join(strOutputDataFolder,fname0+'.h5')\n",
    "\n",
    "#tiltX = theta_rms\n",
    "#build SRW gauusian wavefront\n",
    "wfr0=build_gauss_wavefront_xy(nx=npoints, ny=npoints, ekev=ekev,\n",
    "                              xMin=-range_xy/2, xMax=range_xy/2,\n",
    "                              yMin=-range_xy/2, yMax=range_xy/2,\n",
    "                              sigX=sigX, sigY=sigX, d2waist=z1,\n",
    "                              xoff=0, yoff=0, tiltX=0, tiltY=0)    \n",
    "\n",
    "#init WPG Wavefront helper class\n",
    "mwf = Wavefront(wfr0)\n",
    "\n",
    "#store wavefront to HDF5 file \n",
    "mwf.store_hdf5(ifname)\n",
    "\n",
    "#draw wavefront with common functions\n",
    "plt.subplot(1,2,1)\n",
    "plt.imshow(mwf.get_intensity(slice_number=0))\n",
    "plt.subplot(1,2,2)\n",
    "plt.imshow(mwf.get_phase(slice_number=0,polarization='horizontal'))\n",
    "plt.show()\n",
    "\n",
    "#draw wavefront with cuts\n",
    "plot_wfront(mwf, title_fig='at '+str(z1)+' m',\n",
    "            isHlog=False, isVlog=False,\n",
    "            i_x_min=1e-5, i_y_min=1e-5, orient='x', onePlot=True)\n",
    "\n",
    "plt.set_cmap('bone') #set color map, 'bone', 'hot', 'jet', etc\n",
    "fwhm_x = calculate_fwhm_x(mwf)\n",
    "print('FWHMx [mm], theta_fwhm [urad]:',fwhm_x*1e3,fwhm_x/z1*1e6)"
   ]
  },
  {
   "cell_type": "markdown",
   "metadata": {},
   "source": [
    "### Defining optical beamline(s) "
   ]
  },
  {
   "cell_type": "code",
   "execution_count": null,
   "metadata": {
    "collapsed": false
   },
   "outputs": [],
   "source": [
    "print('*****Defining optical beamline(s) ...')\n",
    "\n",
    "z2 = d2hkb - d2m1\n",
    "\n",
    "DriftM1_KB = SRWLOptD(z2) #Drift from first offset mirror (M1) to exp hall\n",
    "horApM1 = 0.8*thetaOM\n",
    "opApM1 = SRWLOptA('r', 'a', horApM1, range_xy)  # clear aperture of the Offset Mirror(s)\n",
    "horApKB = 0.8 * thetaKB # Aperture of the KB system, CA 0.8 m\n",
    "opApKB = SRWLOptA('r', 'a', horApKB, horApKB)  # clear aperture of the Offset Mirror(s)\n",
    "\n",
    "#Wavefront Propagation Parameters:\n",
    "#[0]:  Auto-Resize (1) or not (0) Before propagation\n",
    "#[1]:  Auto-Resize (1) or not (0) After propagation\n",
    "#[2]:  Relative Precision for propagation with Auto-Resizing (1. is nominal)\n",
    "#[3]:  Allow (1) or not (0) for semi-analytical treatment of quadratic phase terms at propagation\n",
    "#[4]:  Do any Resizing on Fourier side, using FFT, (1) or not (0)\n",
    "#[5]:  Horizontal Range modification factor at Resizing (1. means no modification)\n",
    "#[6]:  Horizontal Resolution modification factor at Resizing\n",
    "#[7]:  Vertical Range modification factor at Resizing\n",
    "#[8]:  Vertical Resolution modification factor at Resizing\n",
    "#[9]:  Type of wavefront Shift before Resizing (not yet implemented)\n",
    "#[10]: New Horizontal wavefront Center position after Shift (not yet implemented)\n",
    "#[11]: New Vertical wavefront Center position after Shift (not yet implemented)\n",
    "#                 [ 0] [1] [2]  [3] [4] [5]  [6]  [7]  [8]  [9] [10] [11] \n",
    "ppM1 =            [ 0,  0, 1.0,  0,  0, 1.0, 1.0, 1.0, 1.0,  0,  0,   0]\n",
    "ppTrErM1 =        [ 0,  0, 1.0,  0,  0, 1.0, 1.0, 1.0, 1.0,  0,  0,   0]\n",
    "ppDriftM1_KB =    [ 0,  0, 1.0,  1,  0, 2.4, 1.8, 2.4, 1.8,  0,  0,   0]\n",
    "ppApKB =          [ 0,  0, 1.0,  0,  0, 0.6, 8.0, 0.6, 4.0,  0,  0,   0]\n",
    "ppHKB =           [ 0,  0, 1.0,  1,  0, 1.0, 1.0, 1.0, 1.0,  0,  0,   0]\n",
    "ppTrErHKB =       [ 0,  0, 1.0,  0,  0, 1.0, 1.0, 1.0, 1.0,  0,  0,   0]\n",
    "ppDrift_HKB_foc = [ 0,  0, 1.0,  1,  0, 1.0, 1.0, 1.0, 1.0,  0,  0,   0]\n",
    "ppDrift_KB =      [ 0,  0, 1.0,  1,  0, 1.0, 1.0, 1.0, 1.0,  0,  0,   0]\n",
    "ppVKB =           [ 0,  0, 1.0,  0,  0, 1.0, 1.0, 1.0, 1.0,  0,  0,   0]\n",
    "ppTrErVKB =       [ 0,  0, 1.0,  0,  0, 1.0, 1.0, 1.0, 1.0,  0,  0,   0]\n",
    "ppDrift_foc =     [ 0,  0, 1.0,  1,  0, 1.0, 1.0, 1.0, 1.0,  0,  0,   0]\n",
    "#ppFin  =          [ 0,  0, 1.0,  0,  0, 0.05,5.0, 0.05,5.0,  0,  0,   0]\n",
    "ppFin =           [ 0,  0, 1.0,  0,  1, .01, 20.0, .01, 20.0,  0,  0,   0]\n",
    "\n",
    "optBL0 = SRWLOptC([opApM1,  DriftM1_KB], \n",
    "                    [ppM1,ppDriftM1_KB]) \n",
    "\n",
    "scale = 2     #5 mirror profile scaling factor \n",
    "print('*****HOM1 data for BL1 beamline ')\n",
    "opTrErM1 = SRWLOptT(1500, 100, horApM1, range_xy)\n",
    "#defineOPD(opTrErM1, os.path.join(strInputDataFolder,'mirror1.dat'), 2, '\\t', 'x',  thetaOM, scale)\n",
    "defineOPD(opTrErM1, os.path.join(strInputDataFolder,'mirror2.dat'), 2, ' ', 'x',  thetaOM, scale)\n",
    "opdTmp=np.array(opTrErM1.arTr)[1::2].reshape(opTrErM1.mesh.ny,opTrErM1.mesh.nx)\n",
    "plt.figure()\n",
    "plot_2d(opdTmp, opTrErM1.mesh.xStart*1e3,opTrErM1.mesh.xFin*1e3,opTrErM1.mesh.yStart*1e3,opTrErM1.mesh.yFin*1e3,\n",
    "        'OPD [m]', 'x (mm)', 'y (mm)')  \n",
    "\n",
    "optBL1 = SRWLOptC([opApM1,opTrErM1,  DriftM1_KB], \n",
    "                    [ppM1,ppTrErM1,ppDriftM1_KB]) \n",
    "\n",
    "dhkb_vkb = dhkb_foc - dvkb_foc          # distance between centers of HFM and VFM\n",
    "d2vkb = d2hkb +  dhkb_vkb\n",
    "vkbfoc =  1. /(1./dvkb_foc + 1. / d2vkb) # for thin lens approx\n",
    "hkbfoc =  1. /(1./dhkb_foc + 1. / d2hkb) # for thin lens approx \n",
    "\n",
    "z3 = dhkb_vkb\n",
    "z4 = vkbfoc #distance to focal plane\n",
    "\n",
    "#HKB = SRWLOptMirEl(_p=d2hkb, _q=dhkb_foc, _ang_graz=thetaKB, _r_sag=1.e+40, _size_tang=0.85, _nvx=cos(thetaKB), _nvy=0, _nvz=-sin(thetaKB), _tvx=-sin(thetaKB), _tvy=0, _x=0, _y=0, _treat_in_out=1) #HKB Ellipsoidal Mirror\n",
    "#VKB = SRWLOptMirEl(_p=d2vkb, _q=dvkb_foc, _ang_graz=thetaKB, _r_sag=1.e+40, _size_tang=0.85, _nvx=0, _nvy=cos(thetaKB), _nvz=-sin(thetaKB), _tvx=0, _tvy=-sin(thetaKB), _x=0, _y=0, _treat_in_out=1) #VKB Ellipsoidal Mirror\n",
    "HKB = SRWLOptL(hkbfoc) #HKB as Thin Lens\n",
    "VKB = SRWLOptL(1e23,vkbfoc) #VKB as Thin Lens\n",
    "Drift_KB  = SRWLOptD(z3)\n",
    "Drift_foc = SRWLOptD(z4)\n",
    "optBL2 = SRWLOptC([opApM1,opTrErM1,  DriftM1_KB,opApKB, HKB,   Drift_KB,  VKB,  Drift_foc], \n",
    "                    [ppM1,ppTrErM1,ppDriftM1_KB,ppApKB,ppHKB,ppDrift_KB,ppVKB,ppDrift_foc,ppFin]) \n"
   ]
  },
  {
   "cell_type": "markdown",
   "metadata": {},
   "source": [
    "### Propagating through BL0 beamline. Ideal mirror: HOM as an aperture"
   ]
  },
  {
   "cell_type": "code",
   "execution_count": null,
   "metadata": {
    "collapsed": false
   },
   "outputs": [],
   "source": [
    "print('*****Ideal mirror: HOM as an aperture')\n",
    "bPlotted = False\n",
    "isHlog = False\n",
    "isVlog = False\n",
    "bSaved = True\n",
    "optBL = optBL0\n",
    "strBL = 'bl0'\n",
    "pos_title = 'at exp hall wall'\n",
    "print('*****setting-up optical elements, beamline:', strBL)\n",
    "bl = Beamline(optBL)\n",
    "print(bl)\n",
    "\n",
    "if bSaved:\n",
    "    out_file_name = os.path.join(strOutputDataFolder, fname0+'_'+strBL+'.h5')\n",
    "    print('save hdf5:', out_file_name)\n",
    "else:\n",
    "    out_file_name = None\n",
    "    \n",
    "startTime = time.time()\n",
    "mwf = propagate_wavefront(ifname, bl,out_file_name)\n",
    "print('propagation lasted:', round((time.time() - startTime) / 6.) / 10., 'min')"
   ]
  },
  {
   "cell_type": "code",
   "execution_count": null,
   "metadata": {
    "collapsed": false
   },
   "outputs": [],
   "source": [
    "print('*****Ideal mirror: HOM as an aperture')\n",
    "plot_wfront(mwf, 'at '+str(z1+z2)+' m',False, False, 1e-5,1e-5,'x', True)\n",
    "#plt.set_cmap('bone') #set color map, 'bone', 'hot', 'jet', etc\n",
    "plt.axis('tight')    \n",
    "print('FWHMx [mm], theta_fwhm [urad]:',calculate_fwhm_x(mwf)*1e3,calculate_fwhm_x(mwf)/(z1+z2)*1e6)\n",
    "print('FWHMy [mm], theta_fwhm [urad]:',calculate_fwhm_y(mwf)*1e3,calculate_fwhm_y(mwf)/(z1+z2)*1e6)"
   ]
  },
  {
   "cell_type": "markdown",
   "metadata": {},
   "source": [
    "### Propagating through BL1 beamline. Imperfect mirror, at KB aperture"
   ]
  },
  {
   "cell_type": "code",
   "execution_count": null,
   "metadata": {
    "collapsed": false
   },
   "outputs": [],
   "source": [
    "print('*****Imperfect HOM mirror, at KB aperture')\n",
    "bPlotted = False\n",
    "isHlog = True\n",
    "isVlog = False\n",
    "bSaved = False\n",
    "optBL = optBL1\n",
    "strBL = 'bl1'\n",
    "pos_title = 'at exp hall wall'\n",
    "print('*****setting-up optical elements, beamline:', strBL)\n",
    "bl = Beamline(optBL)\n",
    "print(bl)\n",
    "\n",
    "if bSaved:\n",
    "    out_file_name = os.path.join(strOutputDataFolder, fname0+'_'+strBL+'.h5')\n",
    "    print('save hdf5:', out_file_name)\n",
    "else:\n",
    "    out_file_name = None\n",
    "    \n",
    "startTime = time.time()\n",
    "mwf = propagate_wavefront(ifname, bl,out_file_name)\n",
    "print('propagation lasted:', round((time.time() - startTime) / 6.) / 10., 'min')"
   ]
  },
  {
   "cell_type": "code",
   "execution_count": null,
   "metadata": {
    "collapsed": false
   },
   "outputs": [],
   "source": [
    "print('*****Imperfect HOM mirror, at KB aperture')\n",
    "plot_wfront(mwf, 'at '+str(z1+z2)+' m',False, False, 1e-5,1e-5,'x', True)\n",
    "#plt.set_cmap('bone') #set color map, 'bone', 'hot', etc\n",
    "plt.axis('tight')    \n",
    "print('FWHMx [mm], theta_fwhm [urad]:',calculate_fwhm_x(mwf)*1e3,calculate_fwhm_x(mwf)/(z1+z2)*1e6)\n",
    "print('FWHMy [mm], theta_fwhm [urad]:',calculate_fwhm_y(mwf)*1e3,calculate_fwhm_y(mwf)/(z1+z2)*1e6)"
   ]
  },
  {
   "cell_type": "markdown",
   "metadata": {},
   "source": [
    "### Propagating through BL2 beamline. Focused beam: perfect KB"
   ]
  },
  {
   "cell_type": "code",
   "execution_count": null,
   "metadata": {
    "collapsed": false
   },
   "outputs": [],
   "source": [
    "print('*****Focused beam: perfect KB')\n",
    "bSaved = False\n",
    "z3 = dhkb_vkb\n",
    "z4 = dvkb_foc \n",
    "z4 = vkbfoc #distance to focal plane\n",
    "\n",
    "#HKB = SRWLOptMirEl(_p=d2hkb, _q=dhkb_foc, _ang_graz=thetaKB, _r_sag=1.e+40, _size_tang=0.85, _nvx=cos(thetaKB), _nvy=0, _nvz=-sin(thetaKB), _tvx=-sin(thetaKB), _tvy=0, _x=0, _y=0, _treat_in_out=1) #HKB Ellipsoidal Mirror\n",
    "#VKB = SRWLOptMirEl(_p=d2vkb, _q=dvkb_foc, _ang_graz=thetaKB, _r_sag=1.e+40, _size_tang=0.85, _nvx=0, _nvy=cos(thetaKB), _nvz=-sin(thetaKB), _tvx=0, _tvy=-sin(thetaKB), _x=0, _y=0, _treat_in_out=1) #VKB Ellipsoidal Mirror\n",
    "#HKB = SRWLOptL(hkbfoc) #HKB as Thin Lens\n",
    "#VKB = SRWLOptL(1e23,vkbfoc) #VKB as Thin Lens\n",
    "Drift_foc = SRWLOptD(dvkb_foc)\n",
    "#optBL2 = SRWLOptC([opApM1,  DriftM1_KB,opApKB, HKB,   Drift_KB,  VKB,  Drift_foc], \n",
    "#                    [ppM1,ppDriftM1_KB,ppApKB,ppHKB,ppDrift_KB,ppVKB,ppDrift_foc,ppFin]) \n",
    "optBL2 = SRWLOptC([opApM1,opTrErM1,  DriftM1_KB,opApKB, HKB,   Drift_KB,  VKB,  Drift_foc], \n",
    "                    [ppM1,ppTrErM1,ppDriftM1_KB,ppApKB,ppHKB,ppDrift_KB,ppVKB,ppDrift_foc]) \n",
    "optBL = optBL2\n",
    "strBL = 'bl2'\n",
    "pos_title = 'at sample position'\n",
    "print('*****setting-up optical elements, beamline:', strBL)\n",
    "bl = Beamline(optBL)\n",
    "bl.append(Empty(), Use_PP(zoom=0.02, sampling=5.0))\n",
    "print(bl)\n",
    "\n",
    "if bSaved:\n",
    "    out_file_name = os.path.join(strOutputDataFolder, fname0+'_'+strBL+'.h5')\n",
    "    print('save hdf5:', out_file_name)\n",
    "else:\n",
    "    out_file_name = None\n",
    "    \n",
    "startTime = time.time()\n",
    "mwf = propagate_wavefront(ifname, bl,out_file_name)\n",
    "print('propagation lasted:', round((time.time() - startTime) / 6.) / 10., 'min')"
   ]
  },
  {
   "cell_type": "code",
   "execution_count": null,
   "metadata": {
    "collapsed": false
   },
   "outputs": [],
   "source": [
    "print('*****Focused beam: Focused beam: perfect KB')\n",
    "bOnePlot = True\n",
    "isHlog = False\n",
    "isVlog = False\n",
    "plot_wfront(mwf, 'at '+str(z1+z2+z3+z4)+' m',isHlog, isVlog, 1e-5,1e-5,'x', bOnePlot)\n",
    "#plt.set_cmap('bone') #set color map, 'bone', 'hot', etc\n",
    "plt.axis('tight')    \n",
    "print('FWHMx [um], FWHMy [um]:',calculate_fwhm_x(mwf)*1e6,calculate_fwhm_y(mwf)*1e6)"
   ]
  },
  {
   "cell_type": "code",
   "execution_count": null,
   "metadata": {
    "collapsed": false
   },
   "outputs": [],
   "source": [
    "print('*****HKB data  ')\n",
    "scale = 2 #scaling factor of mirror\n",
    "opTrErHKB = SRWLOptT(1500, 100, horApKB, horApKB)\n",
    "defineOPD(opTrErHKB, os.path.join(strInputDataFolder,'mirror1.dat'), 2, '\\t', 'x',  thetaOM, scale)\n",
    "opdTmp=np.array(opTrErHKB.arTr)[1::2].reshape(opTrErHKB.mesh.ny,opTrErHKB.mesh.nx)\n",
    "plt.figure()\n",
    "plot_2d(opdTmp, opTrErM1.mesh.xStart*1e3,opTrErM1.mesh.xFin*1e3,opTrErM1.mesh.yStart*1e3,opTrErM1.mesh.yFin*1e3,\n",
    "        'OPD [m]', 'x (mm)', 'y (mm)')  \n",
    "print('*****VKB data  ')\n",
    "opTrErVKB = SRWLOptT(100, 1500, horApKB, horApKB)\n",
    "defineOPD(opTrErVKB, os.path.join(strInputDataFolder,'mirror2.dat'), 2, ' ', 'y',  thetaOM, scale)\n",
    "opdTmp=np.array(opTrErVKB.arTr)[1::2].reshape(opTrErVKB.mesh.ny,opTrErVKB.mesh.nx)\n",
    "plt.figure()\n",
    "plot_2d(opdTmp, opTrErVKB.mesh.xStart*1e3,opTrErVKB.mesh.xFin*1e3,opTrErVKB.mesh.yStart*1e3,opTrErVKB.mesh.yFin*1e3,\n",
    "        'OPD [m]', 'x (mm)', 'y (mm)')  "
   ]
  },
  {
   "cell_type": "code",
   "execution_count": null,
   "metadata": {
    "collapsed": false
   },
   "outputs": [],
   "source": [
    "print('*****Focused beam on focus: imperfect KB')\n",
    "z3 = dhkb_vkb\n",
    "z4 = dvkb_foc #distance to focal plane\n",
    "#z4 = vkbfoc  #focus distance of lens\n",
    "\n",
    "#HKB = SRWLOptMirEl(_p=d2hkb, _q=dhkb_foc, _ang_graz=thetaKB, _r_sag=1.e+40, _size_tang=0.85, _nvx=cos(thetaKB), _nvy=0, _nvz=-sin(thetaKB), _tvx=-sin(thetaKB), _tvy=0, _x=0, _y=0, _treat_in_out=1) #HKB Ellipsoidal Mirror\n",
    "#VKB = SRWLOptMirEl(_p=d2vkb, _q=dvkb_foc, _ang_graz=thetaKB, _r_sag=1.e+40, _size_tang=0.85, _nvx=0, _nvy=cos(thetaKB), _nvz=-sin(thetaKB), _tvx=0, _tvy=-sin(thetaKB), _x=0, _y=0, _treat_in_out=1) #VKB Ellipsoidal Mirror\n",
    "#HKB = SRWLOptL(hkbfoc) #HKB as Thin Lens\n",
    "#VKB = SRWLOptL(1e23,vkbfoc) #VKB as Thin Lens\n",
    "Drift_foc = SRWLOptD(z4)\n",
    "optBL2 = SRWLOptC([opApM1,opTrErM1,  DriftM1_KB,opApKB, HKB,opTrErHKB,  Drift_KB,  VKB,opTrErVKB,  Drift_foc], \n",
    "                    [ppM1,ppTrErM1,ppDriftM1_KB,ppApKB,ppHKB,ppTrErM1,ppDrift_KB,ppVKB,ppTrErM1, ppDrift_foc]) \n",
    "optBL = optBL2\n",
    "\n",
    "\n",
    "bl = Beamline(optBL)\n",
    "bl.append(Empty(), Use_PP(zoom=0.02, sampling=5.0))\n",
    "\n",
    "print(bl)\n",
    "\n",
    "if bSaved:\n",
    "    out_file_name = os.path.join(strOutputDataFolder, fname0+'_'+strBL+'.h5')\n",
    "    print('save hdf5:', out_file_name)\n",
    "else:\n",
    "    out_file_name = None\n",
    "    \n",
    "startTime = time.time()\n",
    "mwf = propagate_wavefront(ifname, bl,out_file_name)\n",
    "print('propagation lasted:', round((time.time() - startTime) / 6.) / 10., 'min')"
   ]
  },
  {
   "cell_type": "code",
   "execution_count": null,
   "metadata": {
    "collapsed": false
   },
   "outputs": [],
   "source": [
    "print('*****Focused beam: Focused beam: imperfect KB')\n",
    "bOnePlot= True\n",
    "isHlog = False\n",
    "isVlog = False\n",
    "bSaved = False\n",
    "try:\n",
    "    plot_wfront(mwf, 'at '+str(z1+z2+z3+z4)+' m',isHlog, isVlog, 1e-3,1e-3,'x', bOnePlot)\n",
    "except ValueError as e:\n",
    "    print(e)\n",
    "#plt.set_cmap('bone') #set color map, 'bone', 'hot', etc\n",
    "plt.axis('tight')    \n",
    "print('FWHMx [um], FWHMy [um]:',calculate_fwhm_x(mwf)*1e6,calculate_fwhm_y(mwf)*1e6)"
   ]
  },
  {
   "cell_type": "code",
   "execution_count": null,
   "metadata": {
    "collapsed": false
   },
   "outputs": [],
   "source": [
    "print('*****Focused beam behind focus: imperfect KB')\n",
    "#optBL2 = SRWLOptC([opApM1,opTrErM1,  DriftM1_KB,opApKB, HKB,   Drift_KB,  VKB,  Drift_foc], \n",
    "#                    [ppM1,ppTrErM1,ppDriftM1_KB,ppApKB,ppHKB,ppDrift_KB,ppVKB,ppDrift_foc]) \n",
    "z3 = dhkb_vkb\n",
    "#z4 = dvkb_foc #distance to focal plane\n",
    "z4 = vkbfoc\n",
    "\n",
    "#HKB = SRWLOptMirEl(_p=d2hkb, _q=dhkb_foc, _ang_graz=thetaKB, _r_sag=1.e+40, _size_tang=0.85, _nvx=cos(thetaKB), _nvy=0, _nvz=-sin(thetaKB), _tvx=-sin(thetaKB), _tvy=0, _x=0, _y=0, _treat_in_out=1) #HKB Ellipsoidal Mirror\n",
    "#VKB = SRWLOptMirEl(_p=d2vkb, _q=dvkb_foc, _ang_graz=thetaKB, _r_sag=1.e+40, _size_tang=0.85, _nvx=0, _nvy=cos(thetaKB), _nvz=-sin(thetaKB), _tvx=0, _tvy=-sin(thetaKB), _x=0, _y=0, _treat_in_out=1) #VKB Ellipsoidal Mirror\n",
    "#HKB = SRWLOptL(hkbfoc) #HKB as Thin Lens\n",
    "#VKB = SRWLOptL(1e23,vkbfoc) #VKB as Thin Lens\n",
    "Drift_foc = SRWLOptD(z4)\n",
    "optBL2 = SRWLOptC([opApM1,opTrErM1,  DriftM1_KB,opApKB, HKB,opTrErHKB,  Drift_KB,  VKB,opTrErVKB,  Drift_foc], \n",
    "                    [ppM1,ppTrErM1,ppDriftM1_KB,ppApKB,ppHKB,ppTrErM1,ppDrift_KB,ppVKB,ppTrErM1, ppDrift_foc]) \n",
    "optBL = optBL2\n",
    "strBL = 'bl2'\n",
    "pos_title = 'at sample position'\n",
    "print('*****setting-up optical elements, beamline:', strBL)\n",
    "bl = Beamline(optBL)\n",
    "print(bl)\n",
    "\n",
    "if bSaved:\n",
    "    out_file_name = os.path.join(strOutputDataFolder, fname0+'_'+strBL+'.h5')\n",
    "    print('save hdf5:', out_file_name)\n",
    "else:\n",
    "    out_file_name = None\n",
    "    \n",
    "startTime = time.time()\n",
    "mwf = propagate_wavefront(ifname, bl,out_file_name)\n",
    "print('propagation lasted:', round((time.time() - startTime) / 6.) / 10., 'min')"
   ]
  },
  {
   "cell_type": "code",
   "execution_count": null,
   "metadata": {
    "collapsed": false
   },
   "outputs": [],
   "source": [
    "print('*****Focused beam behind focus: imperfect KB')\n",
    "bOnePlot= True\n",
    "isHlog = False\n",
    "isVlog = False\n",
    "bSaved = False\n",
    "plot_wfront(mwf, 'at '+str(z1+z2+z3+z4)+' m',isHlog, isVlog, 1e-3,1e-3,'x', bOnePlot)\n",
    "#plt.set_cmap('bone') #set color map, 'bone', 'hot', etc\n",
    "plt.axis('tight')    \n",
    "print('FWHMx [um], FWHMy [um]:',calculate_fwhm_x(mwf)*1e6,calculate_fwhm_y(mwf)*1e6)"
   ]
  },
  {
   "cell_type": "code",
   "execution_count": null,
   "metadata": {
    "collapsed": false
   },
   "outputs": [],
   "source": []
  }
 ],
 "metadata": {
  "kernelspec": {
   "display_name": "Python 3",
   "language": "python",
   "name": "python3"
  },
  "language_info": {
   "codemirror_mode": {
    "name": "ipython",
    "version": 3
   },
   "file_extension": ".py",
   "mimetype": "text/x-python",
   "name": "python",
   "nbconvert_exporter": "python",
   "pygments_lexer": "ipython3",
   "version": "3.5.1"
  }
 },
 "nbformat": 4,
 "nbformat_minor": 0
}
