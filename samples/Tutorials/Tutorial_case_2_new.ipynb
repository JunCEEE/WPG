{
 "cells": [
  {
   "cell_type": "markdown",
   "metadata": {},
   "source": [
    "# Wavefront propagation simulation tutorial - Case 2_new"
   ]
  },
  {
   "cell_type": "markdown",
   "metadata": {},
   "source": [
    "L.Samoylova <liubov.samoylova@xfel.eu>, A.Buzmakov <buzmakov@gmail.com>\n",
    "\n",
    "Tutorial course on Wavefront Propagation Simulations, 28/11/2013, European XFEL, Hamburg.\n",
    "\n",
    "Wave optics software is based on SRW core library <https://github.com/ochubar/SRW>, available through WPG interactive framework <https://github.com/samoylv/WPG>"
   ]
  },
  {
   "cell_type": "markdown",
   "metadata": {
    "slideshow": {
     "slide_type": "-"
    }
   },
   "source": [
    "## Propagation Gaussian through HOM and KB optics: soft x-ray beamline"
   ]
  },
  {
   "cell_type": "markdown",
   "metadata": {},
   "source": [
    "### Import modules"
   ]
  },
  {
   "cell_type": "code",
   "execution_count": null,
   "metadata": {
    "collapsed": false
   },
   "outputs": [],
   "source": [
    "%matplotlib inline"
   ]
  },
  {
   "cell_type": "code",
   "execution_count": null,
   "metadata": {
    "collapsed": false
   },
   "outputs": [],
   "source": [
    "from __future__ import absolute_import\n",
    "from __future__ import division\n",
    "from __future__ import print_function\n",
    "from __future__ import unicode_literals\n",
    "\n",
    "#Importing necessary modules:\n",
    "import os\n",
    "import sys\n",
    "sys.path.insert(0,os.path.join('..','..'))\n",
    "\n",
    "import time\n",
    "import copy\n",
    "import numpy as np\n",
    "import pylab as plt\n",
    "\n",
    "\n",
    "#import SRW core functions\n",
    "from wpg.srwlib import srwl,SRWLOptD,SRWLOptA,SRWLOptC,SRWLOptT,SRWLOptL,SRWLOptMirEl\n",
    "\n",
    "#import SRW helpers functions\n",
    "from wpg.useful_code.srwutils import AuxTransmAddSurfHeightProfileScaled\n",
    "\n",
    "#import some helpers functions\n",
    "from wpg.useful_code.wfrutils import calculate_fwhm_x, plot_wfront, calculate_fwhm_y, print_beamline, get_mesh\n",
    "\n",
    "#Import base wavefront class\n",
    "from wpg import Wavefront\n",
    "\n",
    "#Gaussian beam generator\n",
    "from wpg.generators import build_gauss_wavefront_xy\n",
    "\n",
    "plt.ion()"
   ]
  },
  {
   "cell_type": "markdown",
   "metadata": {},
   "source": [
    "### Define auxiliary functions"
   ]
  },
  {
   "cell_type": "code",
   "execution_count": null,
   "metadata": {
    "collapsed": false
   },
   "outputs": [],
   "source": [
    "#Plotting\n",
    "def plot_1d(profile, title_fig, title_x, title_y):\n",
    "    plt.plot(profile[0], profile[1])\n",
    "    plt.xlabel(title_x)\n",
    "    plt.ylabel(title_y)\n",
    "    plt.title(title_fig)\n",
    "    plt.grid(True)\n",
    "\n",
    "\n",
    "def plot_2d(amap, xmin, xmax, ymin, ymax, title_fig, title_x, title_y):\n",
    "    plt.imshow(amap, extent=(ymin, ymax, xmin, xmax))\n",
    "    plt.colorbar()\n",
    "    plt.xlabel(title_x)\n",
    "    plt.ylabel(title_y)\n",
    "    plt.title(title_fig)\n"
   ]
  },
  {
   "cell_type": "code",
   "execution_count": null,
   "metadata": {
    "collapsed": false
   },
   "outputs": [],
   "source": [
    "#calculate source size from photon energy and FWHM angular divergence\n",
    "def calculate_source_fwhm(ekev, theta_fwhm):\n",
    "    wl = 12.398e-10/ekev\n",
    "    k = 2 * np.sqrt(2*np.log(2))\n",
    "    theta_sigma = theta_fwhm /k\n",
    "    sigma0 = wl /(2*np.pi*theta_sigma)\n",
    "    return sigma0*k"
   ]
  },
  {
   "cell_type": "code",
   "execution_count": null,
   "metadata": {
    "collapsed": false
   },
   "outputs": [],
   "source": [
    "#calculate angular divergence using formula from CDR2011\n",
    "def calculate_theta_fwhm_cdr(ekev,qnC):\n",
    "    theta_fwhm = (17.2 - 6.4 * np.sqrt(qnC))*1e-6/ekev**0.85\n",
    "    return theta_fwhm"
   ]
  },
  {
   "cell_type": "code",
   "execution_count": null,
   "metadata": {
    "collapsed": false
   },
   "outputs": [],
   "source": [
    "#define optical path difference (OPD) from mirror profile, i.e.\n",
    "#fill the struct opTrErMirr\n",
    "#input: \n",
    "#    mdatafile: an ascii file with mirror profile data\n",
    "#    ncol:      number of columns in the file\n",
    "#    delim:     delimiter between numbers in an row, can be space (' '), tab '\\t', etc\n",
    "#    Orient:    mirror orientation, 'x' (horizontal) or 'y' (vertical)\n",
    "#    theta:     incidence angle\n",
    "#    scale:     scaling factor for the mirror profile\n",
    "def defineOPD(opTrErMirr, mdatafile, ncol, delim, Orient, theta, scale):\n",
    "    heightProfData = np.loadtxt(mdatafile).T\n",
    "    AuxTransmAddSurfHeightProfileScaled(opTrErMirr, heightProfData, Orient, theta, scale)\n",
    "    plt.figure()\n",
    "    plot_1d(heightProfData,'profile from ' + mdatafile,'x (m)', 'h (m)') #todo add the func def in on top of example"
   ]
  },
  {
   "cell_type": "markdown",
   "metadata": {},
   "source": [
    "### Defining initial wavefront and writing electric field data to h5-file"
   ]
  },
  {
   "cell_type": "code",
   "execution_count": null,
   "metadata": {
    "collapsed": false
   },
   "outputs": [],
   "source": [
    "# #**********************Input Wavefront Structure and Parameters\n",
    "print('*****defining initial wavefront and writing electric field data to h5-file...')\n",
    "strInputDataFolder = 'data_common'  # input data sub-folder name\n",
    "strOutputDataFolder = 'Tutorial_case_2'  # output data sub-folder name\n",
    "\n",
    "#init Gauusian beam parameters\n",
    "d2m1_sase1 = 246.5\n",
    "d2m1_sase2 = 290.0\n",
    "d2m1_sase3 = 281.0\n",
    "d2hkb_sase1 = 904.0\n",
    "d2hkb_sase3 = 442.3\n",
    "dHKB_foc_sase3    = 2.715      # nominal focal length for HFM KB\n",
    "dVKB_foc_sase3    = 1.715      # nominal focal length for VFM KB\n",
    "\n",
    "\n",
    "qnC = 0.1                    # e-bunch charge, [nC]\n",
    "pulse_duration = 9.e-15;\n",
    "\n",
    "ekev_sase3 = 0.8;pulseEnergy_sase3 = 1.e-3; coh_time_sase_3 = 0.82e-15\n",
    "thetaOM_sase3 = 9.e-3\n",
    "thetaKB_sase3 = 9.e-3\n",
    "ekev_sase1 = 8.0\n",
    "thetaOM_sase1 = 2.5e-3       # \n",
    "thetaKB_sase1 = 3.5e-3\n",
    "\n",
    "\n",
    "ekev = ekev_sase3;pulseEnergy=pulseEnergy_sase3;coh_time=coh_time_sase_3\n",
    "thetaOM = thetaOM_sase3\n",
    "d2m1 = d2m1_sase3\n",
    "d2hkb = d2hkb_sase3\n",
    "thetaKB = thetaKB_sase3\n",
    "dhkb_foc = dHKB_foc_sase3      # nominal focal length for HFM KB\n",
    "dvkb_foc = dVKB_foc_sase3      # nominal focal length for VFM KB\n",
    "dhkb_vkb = dhkb_foc - dvkb_foc          # distance between centers of HFM and VFM\n",
    "\n",
    "z1 = d2m1\n",
    "theta_fwhm = calculate_theta_fwhm_cdr(ekev,qnC)\n",
    "k = 2*np.sqrt(2*np.log(2))\n",
    "sigX = 12.4e-10*k/(ekev*4*np.pi*theta_fwhm) \n",
    "print('waist_fwhm [um], theta_fwhms [urad]:', sigX*k*1e6, theta_fwhm*1e6)\n",
    "#define limits\n",
    "range_xy = theta_fwhm/k*z1*5. # sigma*4 beam size\n",
    "npoints=400\n",
    "\n",
    "#define unique filename for storing results\n",
    "ip = np.floor(ekev)\n",
    "frac = np.floor((ekev - ip)*1e3)\n",
    "fname0 = 'g' + str(int(ip))+'_'+str(int(frac))+'kev'\n",
    "print('save hdf5: '+fname0+'.h5')\n",
    "ifname = os.path.join(strOutputDataFolder,fname0+'.h5')\n",
    "\n",
    "#build SRW gauusian wavefront\n",
    "# wfr0=build_gauss_wavefront_xy(nx=np,ny=np,ekev=ekev,xMin=-range_xy/2,xMax=range_xy/2,\n",
    "#                               yMin=-range_xy/2,yMax=range_xy/2,sigX=sigX,sigY=sigX,d2waist=z1)    \n",
    "    \n",
    "wfr0 = build_gauss_wavefront_xy(npoints,npoints,ekev,-range_xy/2,range_xy/2,\n",
    "                                -range_xy/2,range_xy/2,sigX,sigX,z1,\n",
    "                                pulseEn=pulseEnergy,pulseTau=coh_time/np.sqrt(2),\n",
    "                                repRate=1/(np.sqrt(2)*pulse_duration))    \n",
    "\n",
    "\n",
    "#init WPG Wavefront helper class\n",
    "mwf = Wavefront(wfr0)\n",
    "\n",
    "#store wavefront to HDF5 file \n",
    "mwf.store_hdf5(ifname)\n",
    "\n",
    "#draw wavefront with common functions\n",
    "plt.subplot(1,2,1)\n",
    "plt.imshow(mwf.get_intensity(slice_number=0))\n",
    "plt.subplot(1,2,2)\n",
    "plt.imshow(mwf.get_phase(slice_number=0,polarization='horizontal'))\n",
    "plt.show()\n",
    "\n",
    "#draw wavefront with cuts\n",
    "plot_wfront(mwf, title_fig='at '+str(z1)+' m',\n",
    "            isHlog=False, isVlog=False,\n",
    "            i_x_min=1e-5, i_y_min=1e-5, orient='x', onePlot=True)\n",
    "\n",
    "plt.set_cmap('bone') #set color map, 'bone', 'hot', 'jet', etc\n",
    "fwhm_x = calculate_fwhm_x(mwf)\n",
    "print('FWHMx [mm], theta_fwhm [urad]:',fwhm_x*1e3,fwhm_x/z1*1e6)"
   ]
  },
  {
   "cell_type": "markdown",
   "metadata": {},
   "source": [
    "### Defining optical beamline(s) "
   ]
  },
  {
   "cell_type": "code",
   "execution_count": null,
   "metadata": {
    "collapsed": false
   },
   "outputs": [],
   "source": [
    "print('*****Defining optical beamline(s) ...')\n",
    "\n",
    "z2 = d2hkb - d2m1\n",
    "\n",
    "DriftM1_KB = SRWLOptD(z2) #Drift from first offset mirror (M1) to exp hall\n",
    "horApM1 = 0.8*thetaOM\n",
    "opApM1 = SRWLOptA('r', 'a', horApM1, range_xy)  # clear aperture of the Offset Mirror(s)\n",
    "horApKB = 0.8 * thetaKB # Aperture of the KB system, CA 0.8 m\n",
    "opApKB = SRWLOptA('r', 'a', horApKB, horApKB)  # clear aperture of the Offset Mirror(s)\n",
    "\n",
    "#Wavefront Propagation Parameters:\n",
    "#[0]:  Auto-Resize (1) or not (0) Before propagation\n",
    "#[1]:  Auto-Resize (1) or not (0) After propagation\n",
    "#[2]:  Relative Precision for propagation with Auto-Resizing (1. is nominal)\n",
    "#[3]:  Allow (1) or not (0) for semi-analytical treatment of quadratic phase terms at propagation\n",
    "#[4]:  Do any Resizing on Fourier side, using FFT, (1) or not (0)\n",
    "#[5]:  Horizontal Range modification factor at Resizing (1. means no modification)\n",
    "#[6]:  Horizontal Resolution modification factor at Resizing\n",
    "#[7]:  Vertical Range modification factor at Resizing\n",
    "#[8]:  Vertical Resolution modification factor at Resizing\n",
    "#[9]:  Type of wavefront Shift before Resizing (not yet implemented)\n",
    "#[10]: New Horizontal wavefront Center position after Shift (not yet implemented)\n",
    "#[11]: New Vertical wavefront Center position after Shift (not yet implemented)\n",
    "#                 [ 0] [1] [2]  [3] [4] [5]  [6]  [7]  [8]  [9] [10] [11] \n",
    "ppM1 =            [ 0,  0, 1.0,  0,  0, 1.0, 1.0, 1.0, 1.0,  0,  0,   0]\n",
    "ppTrErM1 =        [ 0,  0, 1.0,  0,  0, 1.0, 1.0, 1.0, 1.0,  0,  0,   0]\n",
    "ppDriftM1_KB =    [ 0,  0, 1.0,  1,  0, 2.4, 1.8, 2.4, 1.8,  0,  0,   0]\n",
    "ppApKB =          [ 0,  0, 1.0,  0,  0, 0.6, 8.0, 0.6, 4.0,  0,  0,   0]\n",
    "ppHKB =           [ 0,  0, 1.0,  1,  0, 1.0, 1.0, 1.0, 1.0,  0,  0,   0]\n",
    "ppTrErHKB =       [ 0,  0, 1.0,  0,  0, 1.0, 1.0, 1.0, 1.0,  0,  0,   0]\n",
    "ppDrift_HKB_foc = [ 0,  0, 1.0,  1,  0, 1.0, 1.0, 1.0, 1.0,  0,  0,   0]\n",
    "ppDrift_KB =      [ 0,  0, 1.0,  1,  0, 1.0, 1.0, 1.0, 1.0,  0,  0,   0]\n",
    "ppVKB =           [ 0,  0, 1.0,  0,  0, 1.0, 1.0, 1.0, 1.0,  0,  0,   0]\n",
    "ppTrErVKB =       [ 0,  0, 1.0,  0,  0, 1.0, 1.0, 1.0, 1.0,  0,  0,   0]\n",
    "ppDrift_foc =     [ 0,  0, 1.0,  1,  0, 1.0, 1.0, 1.0, 1.0,  0,  0,   0]\n",
    "#ppFin  =          [ 0,  0, 1.0,  0,  0, 0.05,5.0, 0.05,5.0,  0,  0,   0]\n",
    "#ppFin =           [ 0,  0, 1.0,  0,  1, .01, 20.0, .01, 20.0,  0,  0,   0]\n",
    "ppFin =           [ 0,  0, 1.0,  0,  1, .02, 10.0, .02, 10.0,  0,  0,   0]\n",
    "\n",
    "optBL0 = SRWLOptC([opApM1,  DriftM1_KB], \n",
    "                    [ppM1,ppDriftM1_KB]) \n",
    "\n",
    "scale = 2     #5 mirror profile scaling factor \n",
    "print('*****HOM1 data for BL1 beamline ')\n",
    "opTrErM1 = SRWLOptT(1500, 100, horApM1, range_xy)\n",
    "#defineOPD(opTrErM1, os.path.join(strInputDataFolder,'mirror1.dat'), 2, '\\t', 'x',  thetaOM, scale)\n",
    "defineOPD(opTrErM1, os.path.join(strInputDataFolder,'mirror2.dat'), 2, ' ', 'x',  thetaOM, scale)\n",
    "opdTmp=np.array(opTrErM1.arTr)[1::2].reshape(opTrErM1.mesh.ny,opTrErM1.mesh.nx)\n",
    "plt.figure()\n",
    "plot_2d(opdTmp, opTrErM1.mesh.xStart*1e3,opTrErM1.mesh.xFin*1e3,opTrErM1.mesh.yStart*1e3,opTrErM1.mesh.yFin*1e3,\n",
    "        'OPD [m]', 'x (mm)', 'y (mm)')  \n",
    "\n",
    "optBL1 = SRWLOptC([opApM1,opTrErM1,  DriftM1_KB], \n",
    "                    [ppM1,ppTrErM1,ppDriftM1_KB]) \n",
    "\n",
    "dhkb_vkb = dhkb_foc - dvkb_foc          # distance between centers of HFM and VFM\n",
    "d2vkb = d2hkb +  dhkb_vkb\n",
    "vkbfoc =  1. /(1./dvkb_foc + 1. / d2vkb) # for thin lens approx\n",
    "hkbfoc =  1. /(1./dhkb_foc + 1. / d2hkb) # for thin lens approx \n",
    "\n",
    "z3 = dhkb_vkb\n",
    "z4 = vkbfoc #distance to focal plane\n",
    "\n",
    "# HKB = SRWLOptMirEl(_p=d2hkb, _q=dhkb_foc, _ang_graz=thetaKB, _r_sag=1.e+40, _size_tang=0.85,\n",
    "#                    _nvx=cos(thetaKB), _nvy=0, _nvz=-sin(thetaKB), _tvx=-sin(thetaKB), _tvy=0,\n",
    "#                    _x=0, _y=0, _treat_in_out=1) #HKB Ellipsoidal Mirror\n",
    "# VKB = SRWLOptMirEl(_p=d2vkb, _q=dvkb_foc, _ang_graz=thetaKB, _r_sag=1.e+40, _size_tang=0.85,\n",
    "#                    _nvx=0, _nvy=cos(thetaKB), _nvz=-sin(thetaKB), _tvx=0, _tvy=-sin(thetaKB),\n",
    "#                    _x=0, _y=0, _treat_in_out=1) #VKB Ellipsoidal Mirror\n",
    "\n",
    "HKB = SRWLOptL(hkbfoc) #HKB as Thin Lens\n",
    "VKB = SRWLOptL(1e23,vkbfoc) #VKB as Thin Lens\n",
    "Drift_KB  = SRWLOptD(z3)\n",
    "Drift_foc = SRWLOptD(z4)\n",
    "optBL2 = SRWLOptC([opApM1,opTrErM1,  DriftM1_KB,opApKB, HKB,   Drift_KB,  VKB,  Drift_foc], \n",
    "                    [ppM1,ppTrErM1,ppDriftM1_KB,ppApKB,ppHKB,ppDrift_KB,ppVKB,ppDrift_foc,ppFin]) \n"
   ]
  },
  {
   "cell_type": "markdown",
   "metadata": {},
   "source": [
    "### Propagating through BL0 beamline. Ideal mirror: HOM as an aperture"
   ]
  },
  {
   "cell_type": "code",
   "execution_count": null,
   "metadata": {
    "collapsed": false
   },
   "outputs": [],
   "source": [
    "print('*****Ideal mirror: HOM as an aperture')\n",
    "bPlotted = False\n",
    "isHlog = False\n",
    "isVlog = False\n",
    "bSaved = True\n",
    "optBL = optBL0\n",
    "strBL = 'bl0'\n",
    "pos_title = 'at exp hall wall'\n",
    "print('*****setting-up optical elements, beamline:', strBL)\n",
    "print_beamline(optBL)\n",
    "startTime = time.time()\n",
    "\n",
    "print('*****reading wavefront from h5 file...')\n",
    "w2 = Wavefront()\n",
    "w2.load_hdf5(ifname)\n",
    "wfr = w2._srwl_wf\n",
    "\n",
    "print('*****propagating wavefront (with resizing)...')\n",
    "srwl.PropagElecField(wfr, optBL)\n",
    "mwf = Wavefront(wfr)\n",
    "print('[nx, ny, xmin, xmax, ymin, ymax]', get_mesh(mwf))\n",
    "if bSaved:\n",
    "    print('save hdf5:', fname0+'_'+strBL+'.h5')\n",
    "    mwf.store_hdf5(os.path.join(strOutputDataFolder, fname0+'_'+strBL+'.h5'))\n",
    "print('done')\n",
    "print('propagation lasted:', round((time.time() - startTime) / 6.) / 10., 'min')"
   ]
  },
  {
   "cell_type": "code",
   "execution_count": null,
   "metadata": {
    "collapsed": false
   },
   "outputs": [],
   "source": [
    "print('*****Ideal mirror: HOM as an aperture')\n",
    "plot_wfront(mwf, 'at '+str(z1+z2)+' m',False, False, 1e-5,1e-5,'x', True)\n",
    "plt.set_cmap('bone') #set color map, 'bone', 'hot', 'jet', etc\n",
    "plt.axis('tight')    \n",
    "print('FWHMx [mm], theta_fwhm [urad]:',calculate_fwhm_x(mwf)*1e3,calculate_fwhm_x(mwf)/(z1+z2)*1e6)\n",
    "print('FWHMy [mm], theta_fwhm [urad]:',calculate_fwhm_y(mwf)*1e3,calculate_fwhm_y(mwf)/(z1+z2)*1e6)"
   ]
  },
  {
   "cell_type": "markdown",
   "metadata": {},
   "source": [
    "### Propagating through BL1 beamline. Imperfect mirror, at KB aperture"
   ]
  },
  {
   "cell_type": "code",
   "execution_count": null,
   "metadata": {
    "collapsed": false
   },
   "outputs": [],
   "source": [
    "print ('*****Imperfect mirror, at KB aperture')\n",
    "bPlotted = False\n",
    "isHlog = True\n",
    "isVlog = False\n",
    "bSaved = False\n",
    "optBL = optBL1\n",
    "strBL = 'bl1'\n",
    "pos_title = 'at exp hall wall'\n",
    "print('*****setting-up optical elements, beamline:', strBL)\n",
    "print_beamline(optBL)\n",
    "startTime = time.time()\n",
    "print('*****reading wavefront from h5 file...')\n",
    "w2 = Wavefront()\n",
    "w2.load_hdf5(ifname)\n",
    "wfr = w2._srwl_wf\n",
    "print('*****propagating wavefront (with resizing)...')\n",
    "srwl.PropagElecField(wfr, optBL)\n",
    "mwf = Wavefront(wfr)\n",
    "print('[nx, ny, xmin, xmax, ymin, ymax]', get_mesh(mwf))\n",
    "if bSaved:\n",
    "    print('save hdf5:', fname0+'_'+strBL+'.h5')\n",
    "    mwf.store_hdf5(os.path.join(strOutputDataFolder,fname0+'_'+strBL+'.h5'))\n",
    "print('done')\n",
    "print('propagation lasted:', round((time.time() - startTime) / 6.) / 10., 'min')"
   ]
  },
  {
   "cell_type": "code",
   "execution_count": null,
   "metadata": {
    "collapsed": false
   },
   "outputs": [],
   "source": [
    "print ('*****Imperfect mirror, at KB aperture')\n",
    "plot_wfront(mwf, 'at '+str(z1+z2)+' m',False, False, 1e-5,1e-5,'x', True)\n",
    "plt.set_cmap('bone') #set color map, 'bone', 'hot', etc\n",
    "plt.axis('tight')    \n",
    "print('FWHMx [mm], theta_fwhm [urad]:',calculate_fwhm_x(mwf)*1e3,calculate_fwhm_x(mwf)/(z1+z2)*1e6)\n",
    "print('FWHMy [mm], theta_fwhm [urad]:',calculate_fwhm_y(mwf)*1e3,calculate_fwhm_y(mwf)/(z1+z2)*1e6)"
   ]
  },
  {
   "cell_type": "markdown",
   "metadata": {},
   "source": [
    "### Propagating through BL2 beamline. Focused beam: perfect KB"
   ]
  },
  {
   "cell_type": "code",
   "execution_count": null,
   "metadata": {
    "collapsed": false
   },
   "outputs": [],
   "source": [
    "print('*****Focused beam: perfect KB')\n",
    "#optBL2 = SRWLOptC([opApM1,opTrErM1,  DriftM1_KB,opApKB, HKB,   Drift_KB,  VKB,  Drift_foc], \n",
    "#                    [ppM1,ppTrErM1,ppDriftM1_KB,ppApKB,ppHKB,ppDrift_KB,ppVKB,ppDrift_foc]) \n",
    "z3 = dhkb_vkb\n",
    "z4 = vkbfoc #distance to focal plane\n",
    "\n",
    "HKB = SRWLOptMirEl(_p=d2hkb, _q=dhkb_foc, _ang_graz=thetaKB, _r_sag=1.e+40, _size_tang=0.85,\n",
    "                   _nvx=np.cos(thetaKB), _nvy=0, _nvz=-np.sin(thetaKB),\n",
    "                   _tvx=-np.sin(thetaKB), _tvy=0, _x=0, _y=0, _treat_in_out=1) #HKB Ellipsoidal Mirror\n",
    "VKB = SRWLOptMirEl(_p=d2vkb, _q=dvkb_foc, _ang_graz=thetaKB, _r_sag=1.e+40, _size_tang=0.85,\n",
    "                   _nvx=0, _nvy=np.cos(thetaKB), _nvz=-np.sin(thetaKB),\n",
    "                   _tvx=0, _tvy=-np.sin(thetaKB), _x=0, _y=0, _treat_in_out=1) #VKB Ellipsoidal Mirror\n",
    "#HKB = SRWLOptL(hkbfoc) #HKB as Thin Lens\n",
    "#VKB = SRWLOptL(1e23,vkbfoc) #VKB as Thin Lens\n",
    "Drift_foc = SRWLOptD(dvkb_foc)\n",
    "optBL2 = SRWLOptC([opApM1,  DriftM1_KB,opApKB, HKB,   Drift_KB,  VKB,  Drift_foc], \n",
    "                    [ppM1,ppDriftM1_KB,ppApKB,ppHKB,ppDrift_KB,ppVKB,ppDrift_foc,ppFin]) \n",
    "optBL = optBL2\n",
    "strBL = 'bl2'\n",
    "pos_title = 'at sample position'\n",
    "print('*****setting-up optical elements, beamline:', strBL)\n",
    "print_beamline(optBL)\n",
    "startTime = time.time()\n",
    "print('*****reading wavefront from h5 file...')\n",
    "w2 = Wavefront()\n",
    "w2.load_hdf5(ifname)\n",
    "wfr = w2._srwl_wf\n",
    "print('*****propagating wavefront (with resizing)...')\n",
    "srwl.PropagElecField(wfr, optBL)\n",
    "mwf = Wavefront(wfr)\n",
    "print('[nx, ny, xmin, xmax, ymin, ymax]', get_mesh(mwf))\n",
    "if bSaved:\n",
    "    print('save hdf5:', fname0+'_'+strBL+'.h5')\n",
    "    mwf.store_hdf5(os.path.join(strOutputDataFolder,fname0+'_'+strBL+'.h5'))\n",
    "print('done')\n",
    "print('propagation lasted:', round((time.time() - startTime) / 6.) / 10., 'min')"
   ]
  },
  {
   "cell_type": "code",
   "execution_count": null,
   "metadata": {
    "collapsed": false
   },
   "outputs": [],
   "source": [
    "print ('*****Focused beam: Focused beam: perfect KB')\n",
    "bOnePlot = True\n",
    "isHlog = True\n",
    "isVlog = True\n",
    "bSaved = False\n",
    "#plot_wfront(mwf, 'at '+str(z1+z2+z3+z4)+' m',isHlog, isVlog, 1e-6,1e-6,'x', bOnePlot)\n",
    "dd0_v = plot_wfront(mwf, 'at '+str(z1+z2+z3+z4)+' m', False,  False,1e-6,1e-6, 'y', False,True)\n",
    "dd0_h = plot_wfront(mwf, 'at '+str(z1+z2+z3+z4)+' m',isHlog, isVlog,1e-6,1e-6, 'x', bOnePlot)\n",
    "plt.set_cmap('bone') #set color map, 'bone', 'hot', etc\n",
    "plt.axis('tight')    \n",
    "print('FWHMx [um], FWHMy [um]:',calculate_fwhm_x(mwf)*1e6,calculate_fwhm_y(mwf)*1e6)"
   ]
  },
  {
   "cell_type": "code",
   "execution_count": null,
   "metadata": {
    "collapsed": false
   },
   "outputs": [],
   "source": [
    "scaleKB = 8\n",
    "opTrErHKB = SRWLOptT(1500, 100, horApKB, horApKB)\n",
    "defineOPD(opTrErHKB, os.path.join(strInputDataFolder,'mirror1.dat'), 2, '\\t', 'x',  thetaKB, scaleKB)\n",
    "opdTmp=np.array(opTrErHKB.arTr)[1::2].reshape(opTrErHKB.mesh.ny,opTrErHKB.mesh.nx)\n",
    "print('*****HKB data  ')\n",
    "plt.figure()\n",
    "#subplot()\n",
    "plot_2d(opdTmp, opTrErHKB.mesh.xStart*1e3,opTrErHKB.mesh.xFin*1e3,opTrErHKB.mesh.yStart*1e3,opTrErHKB.mesh.yFin*1e3,\n",
    "        'OPD [m]', 'x (mm)', 'y (mm)')  \n",
    "print('*****VKB data  ')\n",
    "opTrErVKB = SRWLOptT(100, 1500, horApKB, horApKB)\n",
    "defineOPD(opTrErVKB, os.path.join(strInputDataFolder,'mirror2.dat'), 2, ' ', 'y',  thetaKB, scaleKB)\n",
    "opdTmp=np.array(opTrErVKB.arTr)[1::2].reshape(opTrErVKB.mesh.ny,opTrErVKB.mesh.nx)\n",
    "#subplot()\n",
    "plot_2d(opdTmp, opTrErVKB.mesh.xStart*1e3,opTrErVKB.mesh.xFin*1e3,opTrErVKB.mesh.yStart*1e3,opTrErVKB.mesh.yFin*1e3,\n",
    "        'OPD [m]', 'x (mm)', 'y (mm)')  \n",
    "print(vkbfoc-dvkb_foc)\n"
   ]
  },
  {
   "cell_type": "code",
   "execution_count": null,
   "metadata": {
    "collapsed": false
   },
   "outputs": [],
   "source": [
    "print('*****Focused beam: non-perfect KB')\n",
    "#optBL2 = SRWLOptC([opApM1,opTrErM1,  DriftM1_KB,opApKB, HKB,   Drift_KB,  VKB,  Drift_foc], \n",
    "#                    [ppM1,ppTrErM1,ppDriftM1_KB,ppApKB,ppHKB,ppDrift_KB,ppVKB,ppDrift_foc]) \n",
    "z3 = dhkb_vkb\n",
    "z4 = dvkb_foc #distance to focal plane\n",
    "#z4 = vkbfoc\n",
    "\n",
    "HKB = SRWLOptMirEl(_p=d2hkb, _q=dhkb_foc, _ang_graz=thetaKB, _r_sag=1.e+40, _size_tang=0.85,\n",
    "                   _nvx=np.cos(thetaKB), _nvy=0, _nvz=-np.sin(thetaKB),\n",
    "                   _tvx=-np.sin(thetaKB), _tvy=0, _x=0, _y=0, _treat_in_out=1) #HKB Ellipsoidal Mirror\n",
    "VKB = SRWLOptMirEl(_p=d2vkb, _q=dvkb_foc, _ang_graz=thetaKB, _r_sag=1.e+40, _size_tang=0.85,\n",
    "                   _nvx=0, _nvy=np.cos(thetaKB), _nvz=-np.sin(thetaKB), _tvx=0, _tvy=-np.sin(thetaKB),\n",
    "                   _x=0, _y=0, _treat_in_out=1) #VKB Ellipsoidal Mirror\n",
    "#HKB = SRWLOptL(hkbfoc) #HKB as Thin Lens\n",
    "#VKB = SRWLOptL(1e23,vkbfoc) #VKB as Thin Lens\n",
    "Drift_foc = SRWLOptD(z4)\n",
    "optBL2 = SRWLOptC([opApM1,  DriftM1_KB,opApKB, HKB,   Drift_KB,  VKB,  Drift_foc], \n",
    "                    [ppM1,ppDriftM1_KB,ppApKB,ppHKB,ppDrift_KB,ppVKB,ppDrift_foc,ppFin]) \n",
    "optBL3 = SRWLOptC([opApM1,opTrErM1,  DriftM1_KB,opApKB, HKB,opTrErHKB,  Drift_KB,  VKB,opTrErVKB,  Drift_foc], \n",
    "                    [ppM1,ppTrErM1,ppDriftM1_KB,ppApKB,ppHKB,ppTrErM1,ppDrift_KB,ppVKB,ppTrErM1, ppDrift_foc,ppFin]) \n",
    "optBL = optBL3\n",
    "strBL = 'bl3'\n",
    "pos_title = 'at sample position'\n",
    "print('*****setting-up optical elements, beamline:', strBL)\n",
    "print_beamline(optBL)\n",
    "startTime = time.time()\n",
    "print('*****reading wavefront from h5 file...')\n",
    "w2 = Wavefront()\n",
    "w2.load_hdf5(ifname)\n",
    "wfr = w2._srwl_wf\n",
    "print('*****propagating wavefront (with resizing)...')\n",
    "srwl.PropagElecField(wfr, optBL)\n",
    "mwf = Wavefront(wfr)\n",
    "print('[nx, ny, xmin, xmax, ymin, ymax]', get_mesh(mwf))\n",
    "if bSaved:\n",
    "    print('save hdf5:', fname0+'_'+strBL+'.h5')\n",
    "    mwf.store_hdf5(os.path.join(strOutputDataFolder,fname0+'_'+strBL+'.h5'))\n",
    "print('done')\n",
    "print('propagation lasted:', round((time.time() - startTime) / 6.) / 10., 'min')"
   ]
  },
  {
   "cell_type": "code",
   "execution_count": null,
   "metadata": {
    "collapsed": false
   },
   "outputs": [],
   "source": [
    "print ('*****Focused beam: Focused beam: non-perfect KB')\n",
    "bOnePlot = True\n",
    "isHlog = True\n",
    "isVlog = True\n",
    "bSaved = False\n",
    "#plot_wfront(mwf, 'at '+str(z1+z2+z3+z4)+' m',isHlog, isVlog, 1e-6,1e-6,'x', bOnePlot)\n",
    "dd1_v = plot_wfront(mwf, 'at '+str(z1+z2+z3+z4)+' m', False,  False,1e-6,1e-6, 'y', False,True)\n",
    "dd1_h = plot_wfront(mwf, 'at '+str(z1+z2+z3+z4)+' m',isHlog, isVlog,1e-6,1e-6, 'x', bOnePlot)\n",
    "plt.set_cmap('bone') #set color map, 'bone', 'hot', etc\n",
    "plt.axis('tight')    \n",
    "print('FWHMx [um], FWHMy [um]:',calculate_fwhm_x(mwf)*1e6,calculate_fwhm_y(mwf)*1e6)"
   ]
  },
  {
   "cell_type": "code",
   "execution_count": null,
   "metadata": {
    "collapsed": false
   },
   "outputs": [],
   "source": [
    "plt.figure()\n",
    "plt.plot(dd0_h[:,0]*1e6, dd0_h[:,1]/max(dd0_h[:,1]),#/ max(dd21_950_h[:,1]),\n",
    "     dd1_h[:,0]*1e6, dd1_h[:,1]/max(dd0_h[:,1]),'--r')#/max(dd120_950_h[:,1]),'--r')\n",
    "plt.xlim([-1.5,1.5])\n",
    "#ylim([0,1.5])\n",
    "plt.title('horizontal cut')\n",
    "#legend([\"4 nm PV height errors\",\"ideal KB\"])\n",
    "plt.xlabel('[$m$m]')\n",
    "plt.grid(True)\n",
    "plt.show()\n",
    "plt.figure()\n",
    "plt.plot(dd0_v[:,0]*1e6, dd0_v[:,1]/max(dd0_v[:,1]),#/ max(dd21_950_h[:,1]),\n",
    "     dd1_v[:,0]*1e6, dd1_v[:,1]/max(dd0_v[:,1]),'--r')#/max(dd120_950_h[:,1]),'--r')\n",
    "plt.xlim([-1.5,1.5])\n",
    "#ylim([0,1.5])\n",
    "plt.title('vertical cut')\n",
    "#legend([\"4 nm PV height errors\",\"ideal KB\"])\n",
    "plt.xlabel('[$\\mu m$]')\n",
    "plt.grid(True)\n",
    "plt.show()"
   ]
  },
  {
   "cell_type": "code",
   "execution_count": null,
   "metadata": {
    "collapsed": false
   },
   "outputs": [],
   "source": [
    "print('*****Focused beam behind focus: perfect KB')\n",
    "#optBL2 = SRWLOptC([opApM1,opTrErM1,  DriftM1_KB,opApKB, HKB,   Drift_KB,  VKB,  Drift_foc], \n",
    "#                    [ppM1,ppTrErM1,ppDriftM1_KB,ppApKB,ppHKB,ppDrift_KB,ppVKB,ppDrift_foc]) \n",
    "z3 = dhkb_vkb\n",
    "#z4 = dvkb_foc #distance to focal plane\n",
    "z4 = vkbfoc\n",
    "\n",
    "HKB = SRWLOptMirEl(_p=d2hkb, _q=dhkb_foc, _ang_graz=thetaKB, _r_sag=1.e+40, _size_tang=0.85,\n",
    "                   _nvx=np.cos(thetaKB), _nvy=0, _nvz=-np.sin(thetaKB), _tvx=-np.sin(thetaKB),\n",
    "                   _tvy=0, _x=0, _y=0, _treat_in_out=1) #HKB Ellipsoidal Mirror\n",
    "VKB = SRWLOptMirEl(_p=d2vkb, _q=dvkb_foc, _ang_graz=thetaKB, _r_sag=1.e+40, _size_tang=0.85,\n",
    "                   _nvx=0, _nvy=np.cos(thetaKB), _nvz=-np.sin(thetaKB), _tvx=0, _tvy=-np.sin(thetaKB),\n",
    "                   _x=0, _y=0, _treat_in_out=1) #VKB Ellipsoidal Mirror\n",
    "#HKB = SRWLOptL(hkbfoc) #HKB as Thin Lens\n",
    "#VKB = SRWLOptL(1e23,vkbfoc) #VKB as Thin Lens\n",
    "Drift_foc = SRWLOptD(z4)\n",
    "optBL2 = SRWLOptC([opApM1,  DriftM1_KB,opApKB, HKB,   Drift_KB,  VKB,  Drift_foc], \n",
    "                    [ppM1,ppDriftM1_KB,ppApKB,ppHKB,ppDrift_KB,ppVKB,ppDrift_foc]) \n",
    "#optBL3 = SRWLOptC([opApM1,opTrErM1,  DriftM1_KB,opApKB, HKB,opTrErHKB,  Drift_KB,  VKB,opTrErVKB,  Drift_foc], \n",
    "#                    [ppM1,ppTrErM1,ppDriftM1_KB,ppApKB,ppHKB,ppTrErM1,ppDrift_KB,ppVKB,ppTrErM1, ppDrift_foc]) \n",
    "optBL = optBL2\n",
    "strBL = 'bl2'\n",
    "pos_title = 'behind the focus'\n",
    "print('*****setting-up optical elements, beamline:', strBL)\n",
    "print_beamline(optBL)\n",
    "startTime = time.time()\n",
    "print('*****reading wavefront from h5 file...')\n",
    "w2 = Wavefront()\n",
    "w2.load_hdf5(ifname)\n",
    "wfr = w2._srwl_wf\n",
    "print('*****propagating wavefront (with resizing)...')\n",
    "srwl.PropagElecField(wfr, optBL)\n",
    "mwf = Wavefront(wfr)\n",
    "print('[nx, ny, xmin, xmax, ymin, ymax]', get_mesh(mwf))\n",
    "if bSaved:\n",
    "    print('save hdf5:', fname0+'_'+strBL+'.h5')\n",
    "    mwf.store_hdf5(os.path.join(strOutputDataFolder,fname0+'_'+strBL+'.h5'))\n",
    "print('done')\n",
    "print('propagation lasted:', round((time.time() - startTime) / 6.) / 10., 'min')"
   ]
  },
  {
   "cell_type": "code",
   "execution_count": null,
   "metadata": {
    "collapsed": false
   },
   "outputs": [],
   "source": [
    "print('*****Focused beam behind focus: perfect KB')\n",
    "bOnePlot = True\n",
    "isHlog = False\n",
    "isVlog = False\n",
    "bSaved = False\n",
    "plot_wfront(mwf, 'at '+str(z1+z2+z3+z4)+' m',isHlog, isVlog, 1e-6,1e-6,'x', bOnePlot)\n",
    "plt.set_cmap('bone') #set color map, 'bone', 'hot', etc\n",
    "plt.axis('tight')    \n",
    "print('FWHMx [um], FWHMy [um]:',calculate_fwhm_x(mwf)*1e6,calculate_fwhm_y(mwf)*1e6)"
   ]
  },
  {
   "cell_type": "code",
   "execution_count": null,
   "metadata": {
    "collapsed": false
   },
   "outputs": [],
   "source": [
    "print('*****Focused beam behind focus: perfect KB')\n",
    "#optBL2 = SRWLOptC([opApM1,opTrErM1,  DriftM1_KB,opApKB, HKB,   Drift_KB,  VKB,  Drift_foc], \n",
    "#                    [ppM1,ppTrErM1,ppDriftM1_KB,ppApKB,ppHKB,ppDrift_KB,ppVKB,ppDrift_foc]) \n",
    "z3 = dhkb_vkb\n",
    "#z4 = dvkb_foc #distance to focal plane\n",
    "z4 = vkbfoc\n",
    "\n",
    "HKB = SRWLOptMirEl(_p=d2hkb, _q=dhkb_foc, _ang_graz=thetaKB, _r_sag=1.e+40, _size_tang=0.85,\n",
    "                   _nvx=np.cos(thetaKB), _nvy=0, _nvz=-np.sin(thetaKB), _tvx=-np.sin(thetaKB),\n",
    "                   _tvy=0, _x=0, _y=0, _treat_in_out=1) #HKB Ellipsoidal Mirror\n",
    "VKB = SRWLOptMirEl(_p=d2vkb, _q=dvkb_foc, _ang_graz=thetaKB, _r_sag=1.e+40, _size_tang=0.85,\n",
    "                   _nvx=0, _nvy=np.cos(thetaKB), _nvz=-np.sin(thetaKB), _tvx=0, _tvy=-np.sin(thetaKB),\n",
    "                   _x=0, _y=0, _treat_in_out=1) #VKB Ellipsoidal Mirror\n",
    "#HKB = SRWLOptL(hkbfoc) #HKB as Thin Lens\n",
    "#VKB = SRWLOptL(1e23,vkbfoc) #VKB as Thin Lens\n",
    "Drift_foc = SRWLOptD(z4)\n",
    "optBL2 = SRWLOptC([opApM1,  DriftM1_KB,opApKB, HKB,   Drift_KB,  VKB,  Drift_foc], \n",
    "                    [ppM1,ppDriftM1_KB,ppApKB,ppHKB,ppDrift_KB,ppVKB,ppDrift_foc]) \n",
    "#optBL3 = SRWLOptC([opApM1,opTrErM1,  DriftM1_KB,opApKB, HKB,opTrErHKB,  Drift_KB,  VKB,opTrErVKB,  Drift_foc], \n",
    "#                    [ppM1,ppTrErM1,ppDriftM1_KB,ppApKB,ppHKB,ppTrErM1,ppDrift_KB,ppVKB,ppTrErM1, ppDrift_foc]) \n",
    "optBL = optBL2\n",
    "strBL = 'bl2'\n",
    "pos_title = 'behind the focus'\n",
    "print('*****setting-up optical elements, beamline:', strBL)\n",
    "print_beamline(optBL)\n",
    "startTime = time.time()\n",
    "print('*****reading wavefront from h5 file...')\n",
    "w2 = Wavefront()\n",
    "w2.load_hdf5(ifname)\n",
    "wfr = w2._srwl_wf\n",
    "print('*****propagating wavefront (with resizing)...')\n",
    "srwl.PropagElecField(wfr, optBL)\n",
    "mwf = Wavefront(wfr)\n",
    "print('[nx, ny, xmin, xmax, ymin, ymax]', get_mesh(mwf))\n",
    "if bSaved:\n",
    "    print('save hdf5:', fname0+'_'+strBL+'.h5')\n",
    "    mwf.store_hdf5(os.path.join(strOutputDataFolder,fname0+'_'+strBL+'.h5'))\n",
    "print('done')\n",
    "print('propagation lasted:', round((time.time() - startTime) / 6.) / 10., 'min')"
   ]
  },
  {
   "cell_type": "code",
   "execution_count": null,
   "metadata": {
    "collapsed": false
   },
   "outputs": [],
   "source": [
    "print('*****Focused beam behind focus: perfect KB')\n",
    "bOnePlot = True\n",
    "isHlog = False\n",
    "isVlog = False\n",
    "bSaved = False\n",
    "plot_wfront(mwf, 'at '+str(z1+z2+z3+z4)+' m',isHlog, isVlog, 1e-6,1e-6,'x', bOnePlot)\n",
    "plt.set_cmap('bone') #set color map, 'bone', 'hot', etc\n",
    "plt.axis('tight')    \n",
    "print('FWHMx [um], FWHMy [um]:',calculate_fwhm_x(mwf)*1e6,calculate_fwhm_y(mwf)*1e6)"
   ]
  }
 ],
 "metadata": {
  "kernelspec": {
   "display_name": "Python 3",
   "language": "python",
   "name": "python3"
  },
  "language_info": {
   "codemirror_mode": {
    "name": "ipython",
    "version": 3
   },
   "file_extension": ".py",
   "mimetype": "text/x-python",
   "name": "python",
   "nbconvert_exporter": "python",
   "pygments_lexer": "ipython3",
   "version": "3.5.1"
  }
 },
 "nbformat": 4,
 "nbformat_minor": 0
}
